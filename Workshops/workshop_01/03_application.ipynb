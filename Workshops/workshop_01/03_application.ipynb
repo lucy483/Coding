{
  "cells": [
    {
      "cell_type": "markdown",
      "metadata": {
        "id": "view-in-github",
        "colab_type": "text"
      },
      "source": [
        "<a href=\"https://colab.research.google.com/github/lucy483/Coding/blob/main/Workshops/workshop_01/03_application.ipynb\" target=\"_parent\"><img src=\"https://colab.research.google.com/assets/colab-badge.svg\" alt=\"Open In Colab\"/></a>"
      ]
    },
    {
      "cell_type": "markdown",
      "metadata": {
        "id": "w8hzW9ZAgUiC"
      },
      "source": [
        "## Application to molecular property data"
      ]
    },
    {
      "cell_type": "markdown",
      "metadata": {
        "id": "DjrABxwRgUiE"
      },
      "source": [
        "<a rel=\"license\" href=\"https://creativecommons.org/licenses/by/4.0/\"><img alt=\"Creative Commons Licence\" style=\"width=50\" src=\"https://licensebuttons.net/l/by/4.0/88x31.png\" title='This work is licensed under a Creative Commons Attribution 4.0 International License.' align=\"right\"/></a>\n",
        "\n",
        "**Authors**:\n",
        "- Dr Antonia Mey (antonia.mey@ed.ac.uk)\n",
        "- Ryan Zhu\n"
      ]
    },
    {
      "cell_type": "markdown",
      "metadata": {
        "id": "uBvUSG7ZgUiF"
      },
      "source": [
        "**Questions:**\n",
        "- How can we use regressions and clustering on real data?\n",
        "\n",
        "**Objectives:**\n",
        "- Load the properties dataset and explore what it contains\n",
        "- Identify two properties that might correlate and learn a linear regression model"
      ]
    },
    {
      "cell_type": "markdown",
      "metadata": {
        "id": "0vpBR9wRgUiF"
      },
      "source": [
        "**Jupyter cheat sheet**:\n",
        "- to run the currently highlighted cell, hold <kbd>&#x21E7; Shift</kbd> and press <kbd>&#x23ce; Enter</kbd>;\n",
        "- to get help for a specific function, place the cursor within the function's brackets, hold <kbd>&#x21E7; Shift</kbd>, and press <kbd>&#x21E5; Tab</kbd>;"
      ]
    },
    {
      "cell_type": "markdown",
      "metadata": {
        "id": "UpiSguCKgUiF"
      },
      "source": [
        "The data cosists of calculated HOMO and LUMO of 561 small molecules, at b3lyp/def2tzvp level using density functional theory.\n",
        "We are only working with computational data and we DO NOT compare to experiment. It is taken from [here](https://www.kaggle.com/datasets/aideesis/small-compounds-molecular-orbitals-dataset?resource=download)."
      ]
    },
    {
      "cell_type": "markdown",
      "metadata": {
        "id": "H5mLpbOjgUiG"
      },
      "source": [
        "## Google Colab installs\n",
        "\n",
        "<div class=\"alert alert-warning\">\n",
        "The following cell installs necessary packages and downloads data if you are running this tutorial using Google Colab.<br>\n",
        "<b><i>Run this cell only if you are using Google Colab!</i></b></div>"
      ]
    },
    {
      "cell_type": "code",
      "execution_count": 3,
      "metadata": {
        "id": "aEwTS9URgUiG",
        "outputId": "c95b9b9b-44d3-4ece-921d-df122690f141",
        "colab": {
          "base_uri": "https://localhost:8080/",
          "height": 211
        }
      },
      "outputs": [
        {
          "output_type": "stream",
          "name": "stdout",
          "text": [
            "Cloning into 'ATCP_ML-workshop'...\n",
            "fatal: could not read Username for 'https://github.com': No such device or address\n"
          ]
        },
        {
          "output_type": "error",
          "ename": "FileNotFoundError",
          "evalue": "[Errno 2] No such file or directory: 'ATCP-ML-workshop/Workshops/workshop_01'",
          "traceback": [
            "\u001b[0;31m---------------------------------------------------------------------------\u001b[0m",
            "\u001b[0;31mFileNotFoundError\u001b[0m                         Traceback (most recent call last)",
            "\u001b[0;32m/tmp/ipython-input-3-2966502028.py\u001b[0m in \u001b[0;36m<cell line: 0>\u001b[0;34m()\u001b[0m\n\u001b[1;32m      2\u001b[0m \u001b[0;32mimport\u001b[0m \u001b[0mos\u001b[0m\u001b[0;34m\u001b[0m\u001b[0;34m\u001b[0m\u001b[0m\n\u001b[1;32m      3\u001b[0m \u001b[0;34m\u001b[0m\u001b[0m\n\u001b[0;32m----> 4\u001b[0;31m \u001b[0mos\u001b[0m\u001b[0;34m.\u001b[0m\u001b[0mchdir\u001b[0m\u001b[0;34m(\u001b[0m\u001b[0;34mf\"ATCP-ML-workshop{os.sep}Workshops{os.sep}workshop_01\"\u001b[0m\u001b[0;34m)\u001b[0m\u001b[0;34m\u001b[0m\u001b[0;34m\u001b[0m\u001b[0m\n\u001b[0m",
            "\u001b[0;31mFileNotFoundError\u001b[0m: [Errno 2] No such file or directory: 'ATCP-ML-workshop/Workshops/workshop_01'"
          ]
        }
      ],
      "source": [
        "!if [ -n \"$COLAB_RELEASE_TAG\" ]; then git clone https://github.com/Edinburgh-Chemistry-Teaching/ATCP_ML-workshop; fi\n",
        "import os\n",
        "os.chdir(f\"ATCP-ML-workshop{os.sep}Workshops{os.sep}workshop_01\")"
      ]
    },
    {
      "cell_type": "markdown",
      "metadata": {
        "id": "MTA8JUpHgUiH"
      },
      "source": [
        "## 1. Loading the data"
      ]
    },
    {
      "cell_type": "code",
      "execution_count": 7,
      "metadata": {
        "id": "uOI3J9gQgUiH"
      },
      "outputs": [],
      "source": [
        "# Imports\n",
        "import glob\n",
        "import pandas as pd\n",
        "import numpy as np\n",
        "import kagglehub\n",
        "from kagglehub import KaggleDatasetAdapter\n",
        "import matplotlib.pyplot as plt\n",
        "from sklearn import decomposition\n",
        "from sklearn import cluster\n",
        "import os\n",
        "import warnings\n",
        "warnings.filterwarnings(\"ignore\")"
      ]
    },
    {
      "cell_type": "code",
      "execution_count": 9,
      "metadata": {
        "id": "fesRA5i7gUiH",
        "outputId": "2aebad86-8a27-49a2-da00-578e9967266d",
        "colab": {
          "base_uri": "https://localhost:8080/",
          "height": 339
        }
      },
      "outputs": [
        {
          "output_type": "error",
          "ename": "FileNotFoundError",
          "evalue": "[Errno 2] No such file or directory: 'molecular_descriptors.csv'",
          "traceback": [
            "\u001b[0;31m---------------------------------------------------------------------------\u001b[0m",
            "\u001b[0;31mFileNotFoundError\u001b[0m                         Traceback (most recent call last)",
            "\u001b[0;32m/tmp/ipython-input-9-4045640122.py\u001b[0m in \u001b[0;36m<cell line: 0>\u001b[0;34m()\u001b[0m\n\u001b[1;32m      1\u001b[0m \u001b[0mfilename\u001b[0m \u001b[0;34m=\u001b[0m \u001b[0;34m\"molecular_descriptors.csv\"\u001b[0m\u001b[0;34m\u001b[0m\u001b[0;34m\u001b[0m\u001b[0m\n\u001b[0;32m----> 2\u001b[0;31m \u001b[0mdata\u001b[0m \u001b[0;34m=\u001b[0m \u001b[0mpd\u001b[0m\u001b[0;34m.\u001b[0m\u001b[0mread_csv\u001b[0m\u001b[0;34m(\u001b[0m\u001b[0mfilename\u001b[0m\u001b[0;34m)\u001b[0m\u001b[0;34m\u001b[0m\u001b[0;34m\u001b[0m\u001b[0m\n\u001b[0m\u001b[1;32m      3\u001b[0m \u001b[0mdata\u001b[0m\u001b[0;34m.\u001b[0m\u001b[0mhead\u001b[0m\u001b[0;34m(\u001b[0m\u001b[0;34m)\u001b[0m\u001b[0;34m\u001b[0m\u001b[0;34m\u001b[0m\u001b[0m\n",
            "\u001b[0;32m/usr/local/lib/python3.11/dist-packages/pandas/io/parsers/readers.py\u001b[0m in \u001b[0;36mread_csv\u001b[0;34m(filepath_or_buffer, sep, delimiter, header, names, index_col, usecols, dtype, engine, converters, true_values, false_values, skipinitialspace, skiprows, skipfooter, nrows, na_values, keep_default_na, na_filter, verbose, skip_blank_lines, parse_dates, infer_datetime_format, keep_date_col, date_parser, date_format, dayfirst, cache_dates, iterator, chunksize, compression, thousands, decimal, lineterminator, quotechar, quoting, doublequote, escapechar, comment, encoding, encoding_errors, dialect, on_bad_lines, delim_whitespace, low_memory, memory_map, float_precision, storage_options, dtype_backend)\u001b[0m\n\u001b[1;32m   1024\u001b[0m     \u001b[0mkwds\u001b[0m\u001b[0;34m.\u001b[0m\u001b[0mupdate\u001b[0m\u001b[0;34m(\u001b[0m\u001b[0mkwds_defaults\u001b[0m\u001b[0;34m)\u001b[0m\u001b[0;34m\u001b[0m\u001b[0;34m\u001b[0m\u001b[0m\n\u001b[1;32m   1025\u001b[0m \u001b[0;34m\u001b[0m\u001b[0m\n\u001b[0;32m-> 1026\u001b[0;31m     \u001b[0;32mreturn\u001b[0m \u001b[0m_read\u001b[0m\u001b[0;34m(\u001b[0m\u001b[0mfilepath_or_buffer\u001b[0m\u001b[0;34m,\u001b[0m \u001b[0mkwds\u001b[0m\u001b[0;34m)\u001b[0m\u001b[0;34m\u001b[0m\u001b[0;34m\u001b[0m\u001b[0m\n\u001b[0m\u001b[1;32m   1027\u001b[0m \u001b[0;34m\u001b[0m\u001b[0m\n\u001b[1;32m   1028\u001b[0m \u001b[0;34m\u001b[0m\u001b[0m\n",
            "\u001b[0;32m/usr/local/lib/python3.11/dist-packages/pandas/io/parsers/readers.py\u001b[0m in \u001b[0;36m_read\u001b[0;34m(filepath_or_buffer, kwds)\u001b[0m\n\u001b[1;32m    618\u001b[0m \u001b[0;34m\u001b[0m\u001b[0m\n\u001b[1;32m    619\u001b[0m     \u001b[0;31m# Create the parser.\u001b[0m\u001b[0;34m\u001b[0m\u001b[0;34m\u001b[0m\u001b[0m\n\u001b[0;32m--> 620\u001b[0;31m     \u001b[0mparser\u001b[0m \u001b[0;34m=\u001b[0m \u001b[0mTextFileReader\u001b[0m\u001b[0;34m(\u001b[0m\u001b[0mfilepath_or_buffer\u001b[0m\u001b[0;34m,\u001b[0m \u001b[0;34m**\u001b[0m\u001b[0mkwds\u001b[0m\u001b[0;34m)\u001b[0m\u001b[0;34m\u001b[0m\u001b[0;34m\u001b[0m\u001b[0m\n\u001b[0m\u001b[1;32m    621\u001b[0m \u001b[0;34m\u001b[0m\u001b[0m\n\u001b[1;32m    622\u001b[0m     \u001b[0;32mif\u001b[0m \u001b[0mchunksize\u001b[0m \u001b[0;32mor\u001b[0m \u001b[0miterator\u001b[0m\u001b[0;34m:\u001b[0m\u001b[0;34m\u001b[0m\u001b[0;34m\u001b[0m\u001b[0m\n",
            "\u001b[0;32m/usr/local/lib/python3.11/dist-packages/pandas/io/parsers/readers.py\u001b[0m in \u001b[0;36m__init__\u001b[0;34m(self, f, engine, **kwds)\u001b[0m\n\u001b[1;32m   1618\u001b[0m \u001b[0;34m\u001b[0m\u001b[0m\n\u001b[1;32m   1619\u001b[0m         \u001b[0mself\u001b[0m\u001b[0;34m.\u001b[0m\u001b[0mhandles\u001b[0m\u001b[0;34m:\u001b[0m \u001b[0mIOHandles\u001b[0m \u001b[0;34m|\u001b[0m \u001b[0;32mNone\u001b[0m \u001b[0;34m=\u001b[0m \u001b[0;32mNone\u001b[0m\u001b[0;34m\u001b[0m\u001b[0;34m\u001b[0m\u001b[0m\n\u001b[0;32m-> 1620\u001b[0;31m         \u001b[0mself\u001b[0m\u001b[0;34m.\u001b[0m\u001b[0m_engine\u001b[0m \u001b[0;34m=\u001b[0m \u001b[0mself\u001b[0m\u001b[0;34m.\u001b[0m\u001b[0m_make_engine\u001b[0m\u001b[0;34m(\u001b[0m\u001b[0mf\u001b[0m\u001b[0;34m,\u001b[0m \u001b[0mself\u001b[0m\u001b[0;34m.\u001b[0m\u001b[0mengine\u001b[0m\u001b[0;34m)\u001b[0m\u001b[0;34m\u001b[0m\u001b[0;34m\u001b[0m\u001b[0m\n\u001b[0m\u001b[1;32m   1621\u001b[0m \u001b[0;34m\u001b[0m\u001b[0m\n\u001b[1;32m   1622\u001b[0m     \u001b[0;32mdef\u001b[0m \u001b[0mclose\u001b[0m\u001b[0;34m(\u001b[0m\u001b[0mself\u001b[0m\u001b[0;34m)\u001b[0m \u001b[0;34m->\u001b[0m \u001b[0;32mNone\u001b[0m\u001b[0;34m:\u001b[0m\u001b[0;34m\u001b[0m\u001b[0;34m\u001b[0m\u001b[0m\n",
            "\u001b[0;32m/usr/local/lib/python3.11/dist-packages/pandas/io/parsers/readers.py\u001b[0m in \u001b[0;36m_make_engine\u001b[0;34m(self, f, engine)\u001b[0m\n\u001b[1;32m   1878\u001b[0m                 \u001b[0;32mif\u001b[0m \u001b[0;34m\"b\"\u001b[0m \u001b[0;32mnot\u001b[0m \u001b[0;32min\u001b[0m \u001b[0mmode\u001b[0m\u001b[0;34m:\u001b[0m\u001b[0;34m\u001b[0m\u001b[0;34m\u001b[0m\u001b[0m\n\u001b[1;32m   1879\u001b[0m                     \u001b[0mmode\u001b[0m \u001b[0;34m+=\u001b[0m \u001b[0;34m\"b\"\u001b[0m\u001b[0;34m\u001b[0m\u001b[0;34m\u001b[0m\u001b[0m\n\u001b[0;32m-> 1880\u001b[0;31m             self.handles = get_handle(\n\u001b[0m\u001b[1;32m   1881\u001b[0m                 \u001b[0mf\u001b[0m\u001b[0;34m,\u001b[0m\u001b[0;34m\u001b[0m\u001b[0;34m\u001b[0m\u001b[0m\n\u001b[1;32m   1882\u001b[0m                 \u001b[0mmode\u001b[0m\u001b[0;34m,\u001b[0m\u001b[0;34m\u001b[0m\u001b[0;34m\u001b[0m\u001b[0m\n",
            "\u001b[0;32m/usr/local/lib/python3.11/dist-packages/pandas/io/common.py\u001b[0m in \u001b[0;36mget_handle\u001b[0;34m(path_or_buf, mode, encoding, compression, memory_map, is_text, errors, storage_options)\u001b[0m\n\u001b[1;32m    871\u001b[0m         \u001b[0;32mif\u001b[0m \u001b[0mioargs\u001b[0m\u001b[0;34m.\u001b[0m\u001b[0mencoding\u001b[0m \u001b[0;32mand\u001b[0m \u001b[0;34m\"b\"\u001b[0m \u001b[0;32mnot\u001b[0m \u001b[0;32min\u001b[0m \u001b[0mioargs\u001b[0m\u001b[0;34m.\u001b[0m\u001b[0mmode\u001b[0m\u001b[0;34m:\u001b[0m\u001b[0;34m\u001b[0m\u001b[0;34m\u001b[0m\u001b[0m\n\u001b[1;32m    872\u001b[0m             \u001b[0;31m# Encoding\u001b[0m\u001b[0;34m\u001b[0m\u001b[0;34m\u001b[0m\u001b[0m\n\u001b[0;32m--> 873\u001b[0;31m             handle = open(\n\u001b[0m\u001b[1;32m    874\u001b[0m                 \u001b[0mhandle\u001b[0m\u001b[0;34m,\u001b[0m\u001b[0;34m\u001b[0m\u001b[0;34m\u001b[0m\u001b[0m\n\u001b[1;32m    875\u001b[0m                 \u001b[0mioargs\u001b[0m\u001b[0;34m.\u001b[0m\u001b[0mmode\u001b[0m\u001b[0;34m,\u001b[0m\u001b[0;34m\u001b[0m\u001b[0;34m\u001b[0m\u001b[0m\n",
            "\u001b[0;31mFileNotFoundError\u001b[0m: [Errno 2] No such file or directory: 'molecular_descriptors.csv'"
          ]
        }
      ],
      "source": [
        "filename = \"molecular_descriptors.csv\"\n",
        "data = pd.read_csv(filename)\n",
        "data.head()"
      ]
    },
    {
      "cell_type": "markdown",
      "metadata": {
        "id": "fAUr-AsogUiH"
      },
      "source": [
        "## 2. Exploring the data\n",
        "\n",
        "The data consists of names for compounds, as well as various properties. The best way to familiarise with data is by plotting it.\n"
      ]
    },
    {
      "cell_type": "markdown",
      "metadata": {
        "id": "GkD_cqcsgUiH"
      },
      "source": [
        "<div class=\"alert alert-success\">\n",
        "<b>Task 1:</b> Exploring the data\n",
        "\n",
        "- Plot different properties of the data frame to see how correlated they are.\n",
        "- Can you see any easy trends? Can you identify two properties that seem to be correlated to try and create a regression model?"
      ]
    },
    {
      "cell_type": "code",
      "execution_count": null,
      "metadata": {
        "id": "N1HM4GbGgUiI"
      },
      "outputs": [],
      "source": [
        "### Your solution here:\n"
      ]
    },
    {
      "cell_type": "markdown",
      "metadata": {
        "id": "oLHnEJc0gUiI"
      },
      "source": [
        "<details>\n",
        "<summary> <mark> Solution: </mark> </summary>\n",
        "\n",
        "```Python\n",
        "\n",
        "features_start_at = list(data.columns).index(\"ho\")\n",
        "feature_names = data.columns[features_start_at:]\n",
        "\n",
        "target_column = 'molecular_weight'\n",
        "\n",
        "# Create scatter plots for each column against the target column\n",
        "for column in feature_names:\n",
        "    if column != target_column:\n",
        "        plt.figure(figsize=(6, 4))\n",
        "        plt.scatter(data[target_column], data[column])\n",
        "        plt.xlabel(target_column)\n",
        "        plt.ylabel(column)\n",
        "        plt.title(f'{column} vs. {target_column}')\n",
        "        plt.grid(True)\n",
        "        plt.show()\n",
        "```\n",
        "\n",
        "</details>"
      ]
    },
    {
      "cell_type": "markdown",
      "metadata": {
        "id": "a1D61nodgUiI"
      },
      "source": [
        "## 3. Regression analysis\n"
      ]
    },
    {
      "cell_type": "markdown",
      "metadata": {
        "id": "q7VV9ei6gUiI"
      },
      "source": [
        "<div class=\"alert alert-success\">\n",
        "<b>Task 1: Pick two correlated properties and perform a regression analysis </b>\n",
        "\n",
        "- How predictive is your regression on the test data based on different test/train splits?\n",
        "\n",
        "</div>"
      ]
    },
    {
      "cell_type": "code",
      "execution_count": null,
      "metadata": {
        "id": "1Qy-V3cQgUiI"
      },
      "outputs": [],
      "source": [
        "### Your solution here:\n",
        "\n",
        "\n"
      ]
    },
    {
      "cell_type": "markdown",
      "metadata": {
        "id": "xzx9glepgUiI"
      },
      "source": [
        "<details>\n",
        "<summary> <mark> Regression Testing Solution </mark> </summary>\n",
        "\n",
        "As an example, we pick molecular weight v. logP.\n",
        "If you want to know more about the partition coefficient the [Wikipedia](https://en.wikipedia.org/wiki/Partition_coefficient) entry is a good starting point\n",
        "\n",
        "Understanding logP is important for making drug molecules bioavailable in the body and an important property in drug design.\n",
        "\n",
        "```Python\n",
        "\n",
        "from sklearn.model_selection import train_test_split\n",
        "from sklearn.linear_model import LinearRegression\n",
        "from sklearn.metrics import mean_squared_error, r2_score\n",
        "\n",
        "# splitting data\n",
        "indices = np.arange(len(data['logp']))\n",
        "x = data[['molecular_weight']]\n",
        "y = data[['logp']]\n",
        "x_train, x_test, y_train, y_test, train_idx, test_idx = train_test_split(\n",
        "   x ,y ,indices, test_size=0.33, random_state=42)\n",
        "\n",
        "\n",
        "# Create linear regression object\n",
        "regr = LinearRegression()\n",
        "\n",
        "# Train the model using the training sets\n",
        "regr.fit(x_train, y_train)\n",
        "\n",
        "# Make predictions using the testing set and training set to work out the loss from the mean square error\n",
        "y_pred_test = regr.predict(x_test)\n",
        "y_pred_train = regr.predict(x_train)\n",
        "\n",
        "# The mean squared error that will give you the loss\n",
        "training_loss = mean_squared_error(y.values[train_idx], y_pred_train)\n",
        "test_loss = mean_squared_error(y.values[test_idx], y_pred_test)\n",
        "\n",
        "# The coefficient of determination: 1 is a perfect prediction and gives you an idea of the goodness of fit of the model\n",
        "print(\"Coefficient of determination: %.2f\" % r2_score(y_test, y_pred_test))\n",
        "\n",
        "# The coefficients these are the coefficients you have successfully fit the model with\n",
        "print(\"Coefficients: \\n\", regr.coef_)\n",
        "\n",
        "\n",
        "# Plot outputs\n",
        "figure = plt.figure(figsize=(6,6))\n",
        "plt.plot(x.values[test_idx], y_test, \"^\", label=\"Testing labels truth\", color='blue', alpha=0.3)\n",
        "plt.plot(x.values[test_idx], y_pred_test, \"+\", label=\"Testing labels prediction\", color='purple')\n",
        "plt.text(0, 20, f\"Training Loss: {training_loss:.5f}\")\n",
        "plt.text(0, 21, f\"Testing Loss: {test_loss:.5f}\")\n",
        "plt.xlabel('molecular weight')\n",
        "plt.ylabel('logP')\n",
        "plt.legend()\n",
        "\n",
        "```\n",
        "\n",
        "</details>"
      ]
    },
    {
      "cell_type": "markdown",
      "metadata": {
        "id": "pVhooUm6gUiI"
      },
      "source": [
        "## 4. Clustering analysis on the dataset"
      ]
    },
    {
      "cell_type": "markdown",
      "metadata": {
        "id": "z4hV2hNkgUiI"
      },
      "source": [
        "<div class=\"alert alert-success\">\n",
        "<b>Task 3: Clustering analysis of molecular descriptors </b>\n",
        "\n",
        "- Perform a k-means clustering on fermi energies v. molecular weight\n",
        "- Perform a DBSCAN clustering on fermi energies v. molecular weight\n",
        "- Does it make sense to cluster this data? Can you draw any conclusions from the clustering?\n",
        "\n",
        "</div>"
      ]
    },
    {
      "cell_type": "code",
      "execution_count": null,
      "metadata": {
        "id": "8x8fS2OTgUiI"
      },
      "outputs": [],
      "source": [
        "### Your solution here\n"
      ]
    },
    {
      "cell_type": "markdown",
      "metadata": {
        "id": "zUSc7uvHgUiI"
      },
      "source": [
        "<details>\n",
        "<summary> <mark> Solution for k-means:</mark> </summary>\n",
        "\n",
        "```Python\n",
        "\n",
        "import sklearn.cluster as skl_cluster\n",
        "import numpy as np\n",
        "\n",
        "new_data = data[['molecular_weight','fermi']]\n",
        "\n",
        "# kmeans\n",
        "Kmean = skl_cluster.KMeans(n_clusters=3)\n",
        "Kmean.fit(new_data)\n",
        "clusters = Kmean.predict(new_data)\n",
        "\n",
        "plt.scatter(new_data.values[:, 0], new_data.values[:, 1], s=5, linewidth=0, c=clusters)\n",
        "for cluster_x, cluster_y in Kmean.cluster_centers_:\n",
        "    plt.scatter(cluster_x, cluster_y, s=100, c='orange', marker='+')\n",
        "plt.show()\n",
        "\n",
        "```\n",
        "\n",
        "</details>"
      ]
    },
    {
      "cell_type": "markdown",
      "metadata": {
        "id": "3zzn7jGRgUiJ"
      },
      "source": [
        "<details>\n",
        "<summary> <mark> Solution for DBSCAN</mark> </summary>\n",
        "\n",
        "```Python\n",
        "\n",
        "import sklearn.cluster as skl_cluster\n",
        "import numpy as np\n",
        "\n",
        "new_data = data[['molecular_weight','fermi']]\n",
        "new_data = data[['molecular_weight','fermi']]\n",
        "\n",
        "# Try different values of eps and min_samples\n",
        "db = skl_cluster.DBSCAN(eps=5, min_samples=3)\n",
        "db.fit(new_data)\n",
        "clusters = db.labels_.astype(int)\n",
        "no_clusters = len(np.unique(clusters) )\n",
        "no_noise = np.sum(np.array(clusters) == -1, axis=0)\n",
        "\n",
        "print(f'Estimated no. of clusters: {no_clusters}')\n",
        "print(f'Estimated no. of noise points: {no_noise}')\n",
        "\n",
        "plt.scatter(new_data.values[:,0], new_data.values[:,1], c=clusters, s=8, lw=0, marker=\"o\")\n",
        "plt.show()\n",
        "\n",
        "```\n",
        "\n",
        "</details>"
      ]
    },
    {
      "cell_type": "markdown",
      "metadata": {
        "id": "k2JBnJDugUiJ"
      },
      "source": [
        "## END"
      ]
    },
    {
      "cell_type": "markdown",
      "metadata": {
        "id": "CdePlMrcgUiJ"
      },
      "source": [
        "---"
      ]
    }
  ],
  "metadata": {
    "kernelspec": {
      "display_name": "Python 3 (ipykernel)",
      "language": "python",
      "name": "python3"
    },
    "language_info": {
      "codemirror_mode": {
        "name": "ipython",
        "version": 3
      },
      "file_extension": ".py",
      "mimetype": "text/x-python",
      "name": "python",
      "nbconvert_exporter": "python",
      "pygments_lexer": "ipython3",
      "version": "3.12.5"
    },
    "colab": {
      "provenance": [],
      "include_colab_link": true
    }
  },
  "nbformat": 4,
  "nbformat_minor": 0
}